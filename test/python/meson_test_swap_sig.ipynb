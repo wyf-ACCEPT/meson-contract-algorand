{
 "cells": [
  {
   "cell_type": "code",
   "execution_count": 1,
   "metadata": {},
   "outputs": [
    {
     "name": "stdout",
     "output_type": "stream",
     "text": [
      "Alice GZ4IJXXNRFT23E6SLUOSSUWN2LUDFQTX4F6SXF5EP27LFWTOWHPFANLYIQ Balance: 57.427993\n",
      "Bob   CIK3P7U4PZBJESWQ3XFDCZDXEZ3JZLWY6XZHY4A4KEJCA5SYYIPBT6W7Y4 Balance: 15.288008\n",
      "Carol K7ZJP3J7SYYNB42DPZMRY56X32HVTYOOZRA2ASE2IND4LSQKCL3CE2Z2YU Balance: 8.968\n"
     ]
    }
   ],
   "source": [
    "import time\n",
    "import sys\n",
    "sys.path.append('../contract')\n",
    "from typing import List\n",
    "import base64\n",
    "from base64 import b64encode as en64\n",
    "from base64 import b64decode as de64\n",
    "import pandas as pd\n",
    "from algosdk import account, mnemonic, logic\n",
    "from algosdk.future import transaction\n",
    "from algosdk.v2client import algod, indexer\n",
    "from pyteal import compileTeal, Mode, Approve\n",
    "\n",
    "ALGOD_TOKEN = \"aaaaaaaaaaaaaaaaaaaaaaaaaaaaaaaaaaaaaaaaaaaaaaaaaaaaaaaaaaaaaaaa\"\n",
    "TESTNET_ALGOD_RPC = \"https://testnet-api.algonode.network\"\n",
    "TESTNET_INDEXER_RPC = \"https://testnet-idx.algonode.network\"\n",
    "\n",
    "algod_client = algod.AlgodClient(ALGOD_TOKEN, TESTNET_ALGOD_RPC)\n",
    "indexer_client = indexer.IndexerClient(ALGOD_TOKEN, TESTNET_INDEXER_RPC)\n",
    "sp_func = algod_client.suggested_params\n",
    "on_complete_param = transaction.OnComplete.NoOpOC\n",
    "    \n",
    "mnemonic_1 = open(\"../wallet_1\").read().replace(',', ' ')\n",
    "mnemonic_2 = open(\"../wallet_2\").read().replace(',', ' ')\n",
    "mnemonic_3 = open(\"../wallet_3\").read().replace(',', ' ')\n",
    "\n",
    "alice_private_key = mnemonic.to_private_key(mnemonic_1)\n",
    "alice_address = account.address_from_private_key(alice_private_key)\n",
    "bob_private_key = mnemonic.to_private_key(mnemonic_2)\n",
    "bob_address = account.address_from_private_key(bob_private_key)\n",
    "carol_private_key = mnemonic.to_private_key(mnemonic_3)\n",
    "carol_address = account.address_from_private_key(carol_private_key)\n",
    "\n",
    "print(\"Alice {} Balance: {}\".format(alice_address, \n",
    "                algod_client.account_info(alice_address).get('amount') / 1e6))\n",
    "print(\"Bob   {} Balance: {}\".format(bob_address, \n",
    "                algod_client.account_info(bob_address).get('amount') / 1e6))\n",
    "print(\"Carol {} Balance: {}\".format(carol_address, \n",
    "                algod_client.account_info(carol_address).get('amount') / 1e6))\n"
   ]
  },
  {
   "cell_type": "code",
   "execution_count": 2,
   "metadata": {},
   "outputs": [],
   "source": [
    "def submit_transaction(private_key: str, unsigned_txn: transaction.Transaction):\n",
    "    signed_txn = unsigned_txn.sign(private_key)\n",
    "    txid = algod_client.send_transaction(signed_txn)\n",
    "    print(\"Signed transaction with txID: {}\".format(txid))\n",
    "    confirmed_txn = transaction.wait_for_confirmation(algod_client, txid, 3)\n",
    "    print(\"Confirmed on round {}!\".format(confirmed_txn['confirmed-round']))\n",
    "    transaction_response = algod_client.pending_transaction_info(txid)\n",
    "    return transaction_response\n",
    "    \n",
    "def submit_transaction_group(private_key: str, unsigned_txns: List[transaction.Transaction]):\n",
    "    gid = transaction.calculate_group_id(unsigned_txns)\n",
    "    signed_txns = []\n",
    "    for unsigned in unsigned_txns:\n",
    "        unsigned.group = gid\n",
    "        signed = unsigned.sign(private_key)\n",
    "        signed_txns.append(signed)\n",
    "    gtxid = algod_client.send_transactions(signed_txns)\n",
    "    print(\"Signed transaction group with gtxID: {}\".format(gtxid))\n",
    "    confirmed_txn = transaction.wait_for_confirmation(algod_client, gtxid, 3)\n",
    "    print(\"Confirmed on round {}!\".format(confirmed_txn['confirmed-round']))\n",
    "    transaction_response = algod_client.pending_transaction_info(gtxid)\n",
    "    return transaction_response\n",
    "\n",
    "def compile_program(client, source_code):\n",
    "    compile_response = client.compile(source_code)\n",
    "    return base64.b64decode(compile_response['result'])\n",
    "\n",
    "blank_program = compile_program(algod_client, compileTeal(\n",
    "    Approve(), Mode.Application, version=8\n",
    "))\n"
   ]
  },
  {
   "attachments": {},
   "cell_type": "markdown",
   "metadata": {},
   "source": [
    "## 1. Asset Creation and OptIn"
   ]
  },
  {
   "cell_type": "code",
   "execution_count": 2,
   "metadata": {},
   "outputs": [
    {
     "name": "stdout",
     "output_type": "stream",
     "text": [
      "Signed transaction with txID: RXOM4DVKIEBUYX7FSPOHD2SQLPX5B6TCPHSJKS5L76XEK73UIZRA\n",
      "Confirmed on round 27892638!\n",
      "Asset [Meson Test Circle USD] created success! Asset id: 160363393\n",
      "\n",
      "Signed transaction with txID: VQCAAMUL7KW5RTMRDCM6G5VRUVG4O2Q6B6KNXKB3VHNWIGODJPMQ\n",
      "Confirmed on round 27892640!\n",
      "Asset [Meson Test Tether] created success! Asset id: 160363405\n",
      "\n"
     ]
    }
   ],
   "source": [
    "# Creation\n",
    "create_asset_tx = submit_transaction(alice_private_key, transaction.AssetCreateTxn(\n",
    "    alice_address, sp_func(), int(1e18), 6, False, unit_name=\"mUSDC\", asset_name=\"Meson Test Circle USD\"\n",
    "))\n",
    "usdc_index = create_asset_tx['asset-index']\n",
    "print(\"Asset [Meson Test Circle USD] created success! Asset id: %s\\n\" % usdc_index)\n",
    "\n",
    "create_asset_tx = submit_transaction(alice_private_key, transaction.AssetCreateTxn(\n",
    "    alice_address, sp_func(), int(1e18), 6, False, unit_name=\"mUSDT\", asset_name=\"Meson Test Tether\"\n",
    "))\n",
    "usdt_index = create_asset_tx['asset-index']\n",
    "print(\"Asset [Meson Test Tether] created success! Asset id: %s\\n\" % usdt_index)"
   ]
  },
  {
   "cell_type": "code",
   "execution_count": 3,
   "metadata": {},
   "outputs": [
    {
     "name": "stdout",
     "output_type": "stream",
     "text": [
      "Signed transaction with txID: EWW3B5FIRFDM6WKADPHUSMM3OKCIQ5UCDKDROSAQPZJOHNANBKJA\n",
      "Confirmed on round 27892658!\n",
      "Bob opt in mUSDC asset success!\n",
      "\n",
      "Signed transaction with txID: HEUXQVTMRGLTDS2ONSBRXPPQFVGFGU6FVKPQTPENV2MNNE4SLI7A\n",
      "Confirmed on round 27892660!\n",
      "Carol opt in mUSDC asset success!\n",
      "\n",
      "Signed transaction with txID: O6CU4TVXM7UI5OZTCQLLY4XWNUQMXQ22RO3AWQE6OG4L7YA57GTQ\n",
      "Confirmed on round 27892662!\n",
      "Bob opt in mUSDT asset success!\n",
      "\n",
      "Signed transaction with txID: U3ERKP5AH36ZZWJ7GKQCAUV6HPXAKOUUEPPCH2B6BWM45P4SRMGQ\n",
      "Confirmed on round 27892664!\n",
      "Carol opt in mUSDT asset success!\n",
      "\n"
     ]
    }
   ],
   "source": [
    "# Optin\n",
    "submit_transaction(bob_private_key, transaction.AssetOptInTxn(\n",
    "    bob_address, sp_func(), usdc_index\n",
    ")); print(\"Bob opt in mUSDC asset success!\\n\")\n",
    "\n",
    "submit_transaction(carol_private_key, transaction.AssetOptInTxn(\n",
    "    carol_address, sp_func(), usdc_index\n",
    ")); print(\"Carol opt in mUSDC asset success!\\n\")\n",
    "\n",
    "submit_transaction(bob_private_key, transaction.AssetOptInTxn(\n",
    "    bob_address, sp_func(), usdt_index\n",
    ")); print(\"Bob opt in mUSDT asset success!\\n\")\n",
    "\n",
    "submit_transaction(carol_private_key, transaction.AssetOptInTxn(\n",
    "    carol_address, sp_func(), usdt_index\n",
    ")); print(\"Carol opt in mUSDT asset success!\\n\")"
   ]
  },
  {
   "cell_type": "code",
   "execution_count": 4,
   "metadata": {},
   "outputs": [
    {
     "name": "stdout",
     "output_type": "stream",
     "text": [
      "Signed transaction with txID: LMB4X5LQBT4WFRQ7WJPN5MCGP5LUM37LTRDMKUV2FJCRJAQOWT3Q\n",
      "Confirmed on round 27892666!\n",
      "Bob received 2000000 mUSDC!\n",
      "Signed transaction with txID: IIYMZA2RMIIG277HYAAZCZ6DGLMFYGDPJ3HXMKBYX2JGDK4ZH3HA\n",
      "Confirmed on round 27892668!\n",
      "Carol received 2000000 mUSDC!\n",
      "Signed transaction with txID: UAY5MIOXBW5EFEFCP2TPEYSS4KAN7TRHJ6XCMVDUUSJ4EB3XBSPQ\n",
      "Confirmed on round 27892670!\n",
      "Bob received 2000000 mUSDT!\n",
      "Signed transaction with txID: 6QZWBHX4TB22UQ4NL2KKZMBAIIBJYELKAVC7VNHK35AW7CCR5VAA\n",
      "Confirmed on round 27892672!\n",
      "Carol received 2000000 mUSDT!\n"
     ]
    }
   ],
   "source": [
    "# Transfer\n",
    "asset_amount = 2e12\n",
    "\n",
    "submit_transaction(alice_private_key, transaction.AssetTransferTxn(\n",
    "    alice_address, sp_func(), bob_address, int(asset_amount), usdc_index\n",
    ")); print(\"Bob received %d mUSDC!\" % (asset_amount / 1e6))\n",
    "\n",
    "submit_transaction(alice_private_key, transaction.AssetTransferTxn(\n",
    "    alice_address, sp_func(), carol_address, int(asset_amount), usdc_index\n",
    ")); print(\"Carol received %d mUSDC!\" % (asset_amount / 1e6))\n",
    "\n",
    "submit_transaction(alice_private_key, transaction.AssetTransferTxn(\n",
    "    alice_address, sp_func(), bob_address, int(asset_amount), usdt_index\n",
    ")); print(\"Bob received %d mUSDT!\" % (asset_amount / 1e6))\n",
    "\n",
    "submit_transaction(alice_private_key, transaction.AssetTransferTxn(\n",
    "    alice_address, sp_func(), carol_address, int(asset_amount), usdt_index\n",
    ")); print(\"Carol received %d mUSDT!\" % (asset_amount / 1e6))"
   ]
  },
  {
   "cell_type": "code",
   "execution_count": null,
   "metadata": {},
   "outputs": [],
   "source": []
  },
  {
   "attachments": {},
   "cell_type": "markdown",
   "metadata": {},
   "source": [
    "## 2. Create Contract"
   ]
  },
  {
   "cell_type": "code",
   "execution_count": 3,
   "metadata": {},
   "outputs": [],
   "source": [
    "usdc_index = 160363393\n",
    "usdt_index = 160363405"
   ]
  },
  {
   "cell_type": "code",
   "execution_count": 4,
   "metadata": {},
   "outputs": [
    {
     "name": "stdout",
     "output_type": "stream",
     "text": [
      "Signed transaction with txID: EMGFS7GIILT2SAM5OQB6CFF6NL3PNBSM2FAVZ2GWP66VD2V7YM6A\n",
      "Confirmed on round 28109611!\n",
      "Create Meson Contract success! App id: 161411332, App Address: 5Y4OAPZDN2DNH7RBIRJIGYDMAAUMRL5RBMLAIYKF7EFE5IVBDZOVTPG2WM\n",
      "\n",
      "Signed transaction with txID: QNBLKCFPVOKBWYOWX3C2EPP4HKKLNG7LQWQAVGFZCKIPO3FSGOJA\n",
      "Confirmed on round 28109613!\n",
      "Transfer $ALGO to application address success!\n",
      "App   5Y4OAPZDN2DNH7RBIRJIGYDMAAUMRL5RBMLAIYKF7EFE5IVBDZOVTPG2WM Balance: 0.4 $ALGO\n",
      "\n",
      "Signed transaction with txID: IJWHPNONACAFCE2CW4O76VNDVAFDSZU6TMLC5A5GJ2ZKQ2F5RZTQ\n",
      "Confirmed on round 28109615!\n",
      "Meson App Optin USDC success!\n",
      "\n",
      "Signed transaction with txID: 52RPR4HGEZO2JWSIXDCM6CSBF76QSF5W2OMCCFGKC3ZLP6ZJ4NLA\n",
      "Confirmed on round 28109617!\n",
      "Meson App Optin USDT success!\n",
      "\n"
     ]
    }
   ],
   "source": [
    "# Create app and save some $ALGO\n",
    "from Meson import mesonMainFunc\n",
    "\n",
    "meson_contract_code = compile_program(algod_client, teal_sentences := compileTeal(\n",
    "    mesonMainFunc(), Mode.Application, version=8\n",
    "))\n",
    "create_app_tx = submit_transaction(alice_private_key, transaction.ApplicationCreateTxn(\n",
    "    alice_address, sp_func(), on_complete_param, meson_contract_code, blank_program,\n",
    "    transaction.StateSchema(12, 0), transaction.StateSchema(4, 0),       # TODO: add variable nums\n",
    "    extra_pages=1,  # Need more pages, or you will get `approval program too long, max len 2048 bytes` error\n",
    "))\n",
    "print(\"Create Meson Contract success! App id: %s, App Address: %s\\n\" % (\n",
    "    meson_index := create_app_tx['application-index'],\n",
    "    meson_address := logic.get_application_address(meson_index)\n",
    "))\n",
    "\n",
    "send_amount = 400_000\n",
    "transfer_algo_to_app_tx = submit_transaction(alice_private_key, transaction.PaymentTxn(\n",
    "    alice_address, sp_func(), meson_address, send_amount,\n",
    "))\n",
    "print(\"Transfer $ALGO to application address success!\")\n",
    "print(\"App   {} Balance: {} $ALGO\\n\".format(meson_address, \n",
    "                algod_client.account_info(meson_address).get('amount') / 1e6))\n",
    "\n",
    "# Add USDC and USDT\n",
    "submit_transaction(alice_private_key, transaction.ApplicationCallTxn(\n",
    "    alice_address, sp_func(), meson_index, on_complete_param,\n",
    "    app_args=['addSupportToken', 1], foreign_assets=[usdc_index]\n",
    "))\n",
    "print(\"Meson App Optin USDC success!\\n\")\n",
    "submit_transaction(alice_private_key, transaction.ApplicationCallTxn(\n",
    "    alice_address, sp_func(), meson_index, on_complete_param,\n",
    "    app_args=['addSupportToken', 2], foreign_assets=[usdt_index]\n",
    "))\n",
    "print(\"Meson App Optin USDT success!\\n\")"
   ]
  },
  {
   "cell_type": "code",
   "execution_count": null,
   "metadata": {},
   "outputs": [],
   "source": []
  },
  {
   "attachments": {},
   "cell_type": "markdown",
   "metadata": {},
   "source": [
    "## 3. LP deposit some assets"
   ]
  },
  {
   "cell_type": "code",
   "execution_count": 5,
   "metadata": {},
   "outputs": [
    {
     "name": "stdout",
     "output_type": "stream",
     "text": [
      "Signed transaction with txID: ZNT54ZXT7467RVI6LY6SYBM6JFCK54VG5QDXUKAZLU3XXQNEAJLA\n",
      "Confirmed on round 28109619!\n",
      "LP(Bob) opt in Meson App success!\n",
      "Signed transaction group with gtxID: OEQLC7FRY2UBQOABBAROR4PU3SCKRSNC5OWXO55NKJU44CQDCX4Q\n",
      "Confirmed on round 28109621!\n",
      "LP(Bob) deposit 120 mUSDC into Meson App!\n",
      "\n",
      "Signed transaction group with gtxID: TLY53AJMDPJMQDUDT66ZJ7MRSFPZX5YTS4VVOUZAH6ZJ4BAMCQFA\n",
      "Confirmed on round 28109623!\n",
      "LP(Bob) deposit 120 mUSDT into Meson App!\n",
      "\n",
      "LP(Bob) balance:\n",
      "Asset 160363393: 120\n",
      "Asset 160363405: 120\n"
     ]
    }
   ],
   "source": [
    "# LP Opt in Meson\n",
    "submit_transaction(bob_private_key, transaction.ApplicationOptInTxn(\n",
    "    bob_address, sp_func(), meson_index\n",
    "))\n",
    "print(\"LP(Bob) opt in Meson App success!\")\n",
    "\n",
    "# LP deposit\n",
    "amount_deposit = 120 * 1_000_000\n",
    "\n",
    "submit_transaction_group(bob_private_key, [\n",
    "    transaction.ApplicationCallTxn(\n",
    "        bob_address, sp_func(), meson_index, on_complete_param,\n",
    "        app_args=['deposit', amount_deposit],\n",
    "        foreign_assets=[usdc_index],\n",
    "    ), \n",
    "    transaction.AssetTransferTxn(\n",
    "        bob_address, sp_func(), meson_address, amount_deposit, usdc_index,\n",
    "    )\n",
    "])\n",
    "print(\"LP(Bob) deposit %d mUSDC into Meson App!\\n\" % (amount_deposit // 1e6))\n",
    "\n",
    "submit_transaction_group(bob_private_key, [\n",
    "    transaction.ApplicationCallTxn(\n",
    "        bob_address, sp_func(), meson_index, on_complete_param,\n",
    "        app_args=['deposit', amount_deposit],\n",
    "        foreign_assets=[usdt_index],\n",
    "    ), \n",
    "    transaction.AssetTransferTxn(\n",
    "        bob_address, sp_func(), meson_address, amount_deposit, usdt_index,\n",
    "    )\n",
    "])\n",
    "print(\"LP(Bob) deposit %d mUSDT into Meson App!\\n\" % (amount_deposit // 1e6))\n",
    "\n",
    "returned = indexer_client.lookup_account_application_local_state(bob_address, application_id=meson_index)\n",
    "balances_saved = returned['apps-local-states'][0]['key-value']\n",
    "print(\"LP(Bob) balance:\")\n",
    "for balance in balances_saved:\n",
    "    print(\"Asset %d: %d\" % (int.from_bytes(de64(balance['key'])[8:], 'big'), balance['value']['uint'] / 1e6))"
   ]
  },
  {
   "cell_type": "code",
   "execution_count": null,
   "metadata": {},
   "outputs": [],
   "source": [
    "# LP withdraw\n",
    "amount_withdraw = 30 * 1_000_000\n",
    "\n",
    "submit_transaction(bob_private_key, transaction.ApplicationCallTxn(\n",
    "    bob_address, sp_func(), meson_index, on_complete_param,\n",
    "    app_args=['withdraw', amount_withdraw, usdt_index],\n",
    "    foreign_assets=[usdt_index],\n",
    "))\n",
    "print(\"LP(Bob) withdraw %d mUSDT from Meson App!\\n\" % (amount_withdraw // 1e6))\n",
    "\n",
    "returned = indexer_client.lookup_account_application_local_state(bob_address, application_id=meson_index)\n",
    "balances_saved = returned['apps-local-states'][0]['key-value']\n",
    "print(\"LP(Bob) balance:\")\n",
    "for balance in balances_saved:\n",
    "    print(\"Asset %d: %d\" % (int.from_bytes(de64(balance['key'])[8:], 'big'), balance['value']['uint'] / 1e6))"
   ]
  },
  {
   "cell_type": "code",
   "execution_count": null,
   "metadata": {},
   "outputs": [],
   "source": []
  },
  {
   "attachments": {},
   "cell_type": "markdown",
   "metadata": {},
   "source": [
    "## 4. Start cross-chain swap"
   ]
  },
  {
   "attachments": {},
   "cell_type": "markdown",
   "metadata": {},
   "source": [
    "### 4.0 Build EncodedSwap and others"
   ]
  },
  {
   "cell_type": "code",
   "execution_count": 4,
   "metadata": {},
   "outputs": [],
   "source": [
    "from Crypto.Hash import keccak\n",
    "from web3.auto import w3\n",
    "\n",
    "# origin format: [bytes32]\n",
    "# \\x01\\x00\\x01\\xe8H\\x00\\xc0\\x00\\x00\\x00\\x00\\x00\\xe7U& \\x00\\x00\\x00\\x00\\x00\\x00c\\xd5\\x00B#)\\x02\\x02\\xca\n",
    "# hex format [uint256, hex64]:\n",
    "# (0x)010001e84800c00000000000e755262000000000000063d5004223290202ca22\n",
    "# split values: 0x|01|0001e84800|c00000000000e7552620|0000000000|0063d50042|2329|02|02ca|22\n",
    "# split variables: 0x|version|amount|salt|fee|expireTs|outChain|outToken|inChain|inToken\n",
    "# salt[0xc0, 0b11000000] -> [(0)willTransferToContract, (1)feeWaived, -, -, (1)signNonTyped, -, -, -]\n",
    "\n",
    "def get_expire_ts(delay=90):   # default to 90 minutes\n",
    "    return int(time.time()) + 60*delay\n",
    "\n",
    "def build_encoded(amount: int, expireTs: int, outToken, inToken, \n",
    "                  salt='c00000000000e7552620', fee='0000000000', return_bytes=True):\n",
    "    assert amount < 0x1111111111\n",
    "    version = '01'\n",
    "    amount_string = hex(amount)[2:].rjust(10, '0')\n",
    "    expireTs_string = hex(expireTs)[2:].rjust(10, '0')\n",
    "    outChain = '011b'\n",
    "    inChain = '011b'\n",
    "    encoded_string = ''.join([\n",
    "        '0x', version, amount_string, salt, fee, expireTs_string, outChain, outToken, inChain, inToken\n",
    "    ])\n",
    "    return bytes.fromhex(encoded_string[2:]) if return_bytes else encoded_string\n",
    "\n",
    "def get_swapID(encodedSwap, initiator, return_bytes=True):\n",
    "    concat = encodedSwap + initiator\n",
    "    assert len(concat) == 52\n",
    "    keccak_func = keccak.new(digest_bits=256)\n",
    "    hash_value = keccak_func.update(concat).hexdigest()\n",
    "    return bytes.fromhex(hash_value) if return_bytes else hash_value\n",
    "\n",
    "def keccak256(bytes_str):\n",
    "    keccak_func = keccak.new(digest_bits=256)\n",
    "    hash_value = keccak_func.update(bytes.fromhex(bytes_str) if type(bytes_str) == str else bytes_str)\n",
    "    return hash_value.hexdigest()\n",
    "\n",
    "request_type = \"bytes32 Sign to request a swap on Meson (Testnet)\"\n",
    "release_type = \"bytes32 Sign to release a swap on Meson (Testnet)address Recipient\"\n",
    "request_typehash = bytes.fromhex('7b521e60f64ab56ff03ddfb26df49be54b20672b7acfffc1adeb256b554ccb25')\n",
    "release_typehash = bytes.fromhex('d23291d9d999318ac3ed13f43ac8003d6fbd69a4b532aeec9ffad516010a208c')\n",
    "\n",
    "amount_transfer = 50 * 1_000_000\n",
    "phil_private_key = '4719806c5b87c68e046b7b958d4416f66ff752ce60a36d28c0b9c5f29cbc9ab0'\n",
    "initiator = phil_address = bytes.fromhex('2ef8a51f8ff129dbb874a0efb021702f59c1b211')\n",
    "encodedSwap = build_encoded(amount_transfer, get_expire_ts(), '02', '01')\n",
    "\n",
    "# meson_index = 161411332\n",
    "# meson_address = logic.get_application_address(meson_index)"
   ]
  },
  {
   "cell_type": "code",
   "execution_count": 9,
   "metadata": {},
   "outputs": [
    {
     "name": "stdout",
     "output_type": "stream",
     "text": [
      "Signed transaction with txID: UCQTBRRYDVTDJBXFBJE4DUMPUBXFRHKHJNHCSZGM3DLDYSVUZ4DA\n",
      "Confirmed on round 28113884!\n",
      "Transfer $ALGO to application address success!\n",
      "App   5Y4OAPZDN2DNH7RBIRJIGYDMAAUMRL5RBMLAIYKF7EFE5IVBDZOVTPG2WM Balance: 0.798 $ALGO\n",
      "\n"
     ]
    }
   ],
   "source": [
    "# Transfer to contract if needed\n",
    "send_amount = 400_000\n",
    "transfer_algo_to_app_tx = submit_transaction(alice_private_key, transaction.PaymentTxn(\n",
    "    alice_address, sp_func(), meson_address, send_amount,\n",
    "))\n",
    "print(\"Transfer $ALGO to application address success!\")\n",
    "print(\"App   {} Balance: {} $ALGO\\n\".format(meson_address, \n",
    "                algod_client.account_info(meson_address).get('amount') / 1e6))"
   ]
  },
  {
   "cell_type": "code",
   "execution_count": null,
   "metadata": {},
   "outputs": [],
   "source": []
  },
  {
   "attachments": {},
   "cell_type": "markdown",
   "metadata": {},
   "source": [
    "### 4.1 postSwap & bondSwap"
   ]
  },
  {
   "cell_type": "code",
   "execution_count": 7,
   "metadata": {},
   "outputs": [],
   "source": [
    "digest_request = bytes.fromhex(keccak256(request_typehash + bytes.fromhex(keccak256(encodedSwap))))\n",
    "signed_message = w3.eth.account._sign_hash(digest_request, phil_private_key)\n",
    "r_int, s_int, v = signed_message.r, signed_message.s, signed_message.v - 27\n",
    "r, s = int.to_bytes(r_int, 32, 'big'), int.to_bytes(s_int, 32, 'big')"
   ]
  },
  {
   "cell_type": "code",
   "execution_count": 10,
   "metadata": {},
   "outputs": [
    {
     "name": "stdout",
     "output_type": "stream",
     "text": [
      "Signed transaction group with gtxID: NWN6C4OKGZSJVSF57C42LMSKEWQNLSSZ66UJBWGF3DCRYC22FJEA\n",
      "Confirmed on round 28113888!\n",
      "Step 1.1. User(Carol) posted swap success!\n",
      "\n",
      "Signed transaction with txID: TU64NL4P5CUJ67ATNHZGZXKPRUNEADHG3CPH4HTFSVXVZKD32SUQ\n",
      "Confirmed on round 28113890!\n",
      "Step 1.2. LP(Bob) Bonded swap success!\n"
     ]
    }
   ],
   "source": [
    "submit_transaction_group(carol_private_key, [\n",
    "    transaction.ApplicationCallTxn(\n",
    "        carol_address, sp_func(), meson_index, on_complete_param,\n",
    "        app_args=['postSwap', encodedSwap, r, s, v, initiator],\n",
    "        boxes=[(meson_index, encodedSwap)]\n",
    "    ),\n",
    "    transaction.AssetTransferTxn(\n",
    "        carol_address, sp_func(), meson_address, amount_transfer, usdc_index\n",
    "    ),\n",
    "    *[transaction.ApplicationCallTxn(\n",
    "        carol_address, sp_func(), meson_index, on_complete_param,\n",
    "        app_args=['padding', padding_num]\n",
    "    ) for padding_num in range(7)],\n",
    "])\n",
    "print(\"Step 1.1. User(Carol) posted swap success!\\n\")\n",
    "\n",
    "submit_transaction(bob_private_key, transaction.ApplicationCallTxn(\n",
    "    bob_address, sp_func(), meson_index, on_complete_param,\n",
    "    app_args=['bondSwap', encodedSwap],\n",
    "    boxes=[(meson_index, encodedSwap)]\n",
    "))\n",
    "print(\"Step 1.2. LP(Bob) Bonded swap success!\")"
   ]
  },
  {
   "cell_type": "code",
   "execution_count": 11,
   "metadata": {},
   "outputs": [
    {
     "name": "stdout",
     "output_type": "stream",
     "text": [
      "Meson App boxes (encodedSwap -> postedValue): \n",
      "[EncodedSwap] 010002faf080c00000000000e75526200000000000006400b41d011b02011b01, \n",
      "\t[PostedValue] (lp, initiator, from_address) \n",
      "\t\t\t(1215b7fe9c7e42924ad0ddca31647726769caed8f5f27c701c5112207658c21e, \n",
      "\t\t\t2ef8a51f8ff129dbb874a0efb021702f59c1b211, \n",
      "\t\t\t57f297ed3f9630d0f3437e591c77d7de8f59e1cecc41a0489a4347c5ca0a12f6)\n",
      "[EncodedSwap] 010002faf080c00000000000e755262000000000000064007806011b02011b01, \n",
      "\t[PostedValue] (lp, initiator, from_address) \n",
      "\t\t\t(1215b7fe9c7e42924ad0ddca31647726769caed8f5f27c701c5112207658c21e, \n",
      "\t\t\t2ef8a51f8ff129dbb874a0efb021702f59c1b211, \n",
      "\t\t\t57f297ed3f9630d0f3437e591c77d7de8f59e1cecc41a0489a4347c5ca0a12f6)\n"
     ]
    }
   ],
   "source": [
    "print(\"Meson App boxes (encodedSwap -> postedValue): \")\n",
    "for name_dict in algod_client.application_boxes(meson_index)['boxes']:\n",
    "    encoded_key = base64.b64decode(name_dict['name'].encode())\n",
    "    value_return = algod_client.application_box_by_name(meson_index, encoded_key)\n",
    "    posted_value = base64.b64decode(value_return['value'])\n",
    "    if len(posted_value) == 84:\n",
    "        print('[EncodedSwap] %s, \\n\\t[PostedValue] (lp, initiator, from_address) \\n\\t\\t\\t(%s, \\n\\t\\t\\t%s, \\n\\t\\t\\t%s)' % (encoded_key.hex(), (p := posted_value.hex())[:64], p[64:104], p[104:168]))"
   ]
  },
  {
   "cell_type": "code",
   "execution_count": null,
   "metadata": {},
   "outputs": [],
   "source": []
  },
  {
   "attachments": {},
   "cell_type": "markdown",
   "metadata": {},
   "source": [
    "### 4.2 lock"
   ]
  },
  {
   "cell_type": "code",
   "execution_count": 12,
   "metadata": {},
   "outputs": [
    {
     "name": "stdout",
     "output_type": "stream",
     "text": [
      "Signed transaction group with gtxID: Q4RDTIPULZGBBQ6Y2VNM6QLR32KIG5Q6XHR5ISCDYIX56AXMFE7A\n",
      "Confirmed on round 28113896!\n",
      "Step 2. LP(Bob) lock assets success!\n",
      "\n",
      "Meson App boxes (swapId -> lockedValue): \n",
      "[SwapID] afc4164a71577d1fd56abdb0fd742cf50ecad0a01be724e10bb4fb01aa4a9456, \n",
      "\t[LockedValue] (lp, until, recipient) \n",
      "\t\t\t(1215b7fe9c7e42924ad0ddca31647726769caed8f5f27c701c5112207658c21e, \n",
      "\t\t\t2023-03-02 13:26:36, \n",
      "\t\t\t57f297ed3f9630d0f3437e591c77d7de8f59e1cecc41a0489a4347c5ca0a12f6)\n",
      "[SwapID] 20c7c21c1f25bef694bbcefd0d69c6e12e72ad7da54129a7d613314f5f31e1cc, \n",
      "\t[LockedValue] (lp, until, recipient) \n",
      "\t\t\t(1215b7fe9c7e42924ad0ddca31647726769caed8f5f27c701c5112207658c21e, \n",
      "\t\t\t2023-03-02 09:11:24, \n",
      "\t\t\t57f297ed3f9630d0f3437e591c77d7de8f59e1cecc41a0489a4347c5ca0a12f6)\n"
     ]
    }
   ],
   "source": [
    "submit_transaction_group(bob_private_key, [\n",
    "    transaction.ApplicationCallTxn(\n",
    "        bob_address, sp_func(), meson_index, on_complete_param,\n",
    "        app_args=['lock', encodedSwap, r, s, v, initiator],\n",
    "        accounts=[carol_address],\n",
    "        boxes=[(meson_index, get_swapID(encodedSwap, initiator))]\n",
    "    ),\n",
    "    *[transaction.ApplicationCallTxn(\n",
    "        bob_address, sp_func(), meson_index, on_complete_param,\n",
    "        app_args=['padding', padding_num]\n",
    "    ) for padding_num in range(7)],\n",
    "])\n",
    "print(\"Step 2. LP(Bob) lock assets success!\\n\")\n",
    "\n",
    "print(\"Meson App boxes (swapId -> lockedValue): \")\n",
    "for name_dict in algod_client.application_boxes(meson_index)['boxes']:\n",
    "    swapid_key = base64.b64decode(name_dict['name'].encode())\n",
    "    value_return = algod_client.application_box_by_name(meson_index, swapid_key)\n",
    "    locked_value = base64.b64decode(value_return['value'])\n",
    "    if len(locked_value) == 69:\n",
    "        print('[SwapID] %s, \\n\\t[LockedValue] (lp, until, recipient) \\n\\t\\t\\t(%s, \\n\\t\\t\\t%s, \\n\\t\\t\\t%s)' % (swapid_key.hex(), (p := locked_value.hex())[:64], pd.to_datetime(int(p[64:74], 16) * 1e9), p[74:]))"
   ]
  },
  {
   "cell_type": "code",
   "execution_count": null,
   "metadata": {},
   "outputs": [],
   "source": []
  },
  {
   "attachments": {},
   "cell_type": "markdown",
   "metadata": {},
   "source": [
    "### 4.3 release"
   ]
  },
  {
   "cell_type": "code",
   "execution_count": 13,
   "metadata": {},
   "outputs": [],
   "source": [
    "def decode_algorand_address(algo_addr):\n",
    "    return base64.b32decode(algo_addr + '======')[:-4]\n",
    "\n",
    "msgHash = keccak256(encodedSwap + decode_algorand_address(carol_address))\n",
    "digest_release = bytes.fromhex(keccak256(release_typehash + bytes.fromhex(msgHash)))\n",
    "signed_message = w3.eth.account._sign_hash(digest_release, phil_private_key)\n",
    "r_int, s_int, v = signed_message.r, signed_message.s, signed_message.v - 27\n",
    "r, s = int.to_bytes(r_int, 32, 'big'), int.to_bytes(s_int, 32, 'big')"
   ]
  },
  {
   "cell_type": "code",
   "execution_count": 14,
   "metadata": {},
   "outputs": [
    {
     "name": "stdout",
     "output_type": "stream",
     "text": [
      "Signed transaction group with gtxID: WHPNJZJVT5K4EEMMP2OBCV3IXC3B6Y5BH35GW72AWOB6GXPUPAVA\n",
      "Confirmed on round 28113910!\n",
      "Step 3. User(Carol) release assets success!\n",
      "\n",
      "Meson App boxes (swapId -> lockedValue): \n",
      "[SwapID] afc4164a71577d1fd56abdb0fd742cf50ecad0a01be724e10bb4fb01aa4a9456, \n",
      "\t[LockedValue] (lp, until, recipient) \n",
      "\t\t\t(1111111111111111111111111111111111111111111111111111111111111111, \n",
      "\t\t\tNaT, \n",
      "\t\t\t1111111111111111111111111111111111111111111111111111111111111111)\n",
      "[SwapID] 20c7c21c1f25bef694bbcefd0d69c6e12e72ad7da54129a7d613314f5f31e1cc, \n",
      "\t[LockedValue] (lp, until, recipient) \n",
      "\t\t\t(1215b7fe9c7e42924ad0ddca31647726769caed8f5f27c701c5112207658c21e, \n",
      "\t\t\t2023-03-02 09:11:24, \n",
      "\t\t\t57f297ed3f9630d0f3437e591c77d7de8f59e1cecc41a0489a4347c5ca0a12f6)\n"
     ]
    }
   ],
   "source": [
    "submit_transaction_group(carol_private_key, [\n",
    "    transaction.ApplicationCallTxn(\n",
    "        carol_address, sp_func(), meson_index, on_complete_param,\n",
    "        app_args=['release', encodedSwap, r, s, v, initiator],\n",
    "        foreign_assets=[usdt_index],\n",
    "        boxes=[(meson_index, get_swapID(encodedSwap, initiator))]\n",
    "    ),\n",
    "    *[transaction.ApplicationCallTxn(\n",
    "        carol_address, sp_func(), meson_index, on_complete_param,\n",
    "        app_args=['padding', padding_num]\n",
    "    ) for padding_num in range(7)],\n",
    "])\n",
    "print(\"Step 3. User(Carol) release assets success!\\n\")\n",
    "\n",
    "print(\"Meson App boxes (swapId -> lockedValue): \")\n",
    "for name_dict in algod_client.application_boxes(meson_index)['boxes']:\n",
    "    swapid_key = base64.b64decode(name_dict['name'].encode())\n",
    "    value_return = algod_client.application_box_by_name(meson_index, swapid_key)\n",
    "    locked_value = base64.b64decode(value_return['value'])\n",
    "    if len(locked_value) == 69:\n",
    "        print('[SwapID] %s, \\n\\t[LockedValue] (lp, until, recipient) \\n\\t\\t\\t(%s, \\n\\t\\t\\t%s, \\n\\t\\t\\t%s)' % (swapid_key.hex(), (p := locked_value.hex())[:64], pd.to_datetime(int(p[64:74], 16) * 1e9), p[74:]))"
   ]
  },
  {
   "cell_type": "code",
   "execution_count": null,
   "metadata": {},
   "outputs": [],
   "source": []
  },
  {
   "attachments": {},
   "cell_type": "markdown",
   "metadata": {},
   "source": [
    "### 4.4 executeSwap"
   ]
  },
  {
   "cell_type": "code",
   "execution_count": 17,
   "metadata": {},
   "outputs": [
    {
     "name": "stdout",
     "output_type": "stream",
     "text": [
      "Signed transaction group with gtxID: VD2RD3EN3B6HHX3KB7XZFVGKQGWXPSNAGPF3NIIOLGRXMAXIBOGQ\n",
      "Confirmed on round 28113964!\n",
      "Step 4. LP(Bob) executeSwap success!\n",
      "\n",
      "Meson App boxes (encodedSwap -> postedValue): \n",
      "[EncodedSwap] 010002faf080c00000000000e75526200000000000006400b41d011b02011b01, \n",
      "\t[PostedValue] (lp, initiator, from_address) \n",
      "\t\t\t(1111111111111111111111111111111111111111111111111111111111111111, \n",
      "\t\t\t1111111111111111111111111111111111111111, \n",
      "\t\t\t1111111111111111111111111111111111111111111111111111111111111111)\n",
      "[EncodedSwap] 010002faf080c00000000000e755262000000000000064007806011b02011b01, \n",
      "\t[PostedValue] (lp, initiator, from_address) \n",
      "\t\t\t(1215b7fe9c7e42924ad0ddca31647726769caed8f5f27c701c5112207658c21e, \n",
      "\t\t\t2ef8a51f8ff129dbb874a0efb021702f59c1b211, \n",
      "\t\t\t57f297ed3f9630d0f3437e591c77d7de8f59e1cecc41a0489a4347c5ca0a12f6)\n"
     ]
    }
   ],
   "source": [
    "submit_transaction_group(bob_private_key, [\n",
    "    transaction.ApplicationCallTxn(\n",
    "        bob_address, sp_func(), meson_index, on_complete_param,\n",
    "        app_args=['executeSwap', encodedSwap, r, s, v, 1],  # 1 represents `depositToPool`\n",
    "        accounts=[carol_address],\n",
    "        foreign_assets=[usdc_index],\n",
    "        boxes=[(meson_index, encodedSwap)]\n",
    "    ),\n",
    "    *[transaction.ApplicationCallTxn(\n",
    "        bob_address, sp_func(), meson_index, on_complete_param,\n",
    "        app_args=['padding', padding_num]\n",
    "    ) for padding_num in range(7)],\n",
    "])\n",
    "print(\"Step 4. LP(Bob) executeSwap success!\\n\")\n",
    "\n",
    "print(\"Meson App boxes (encodedSwap -> postedValue): \")\n",
    "for name_dict in algod_client.application_boxes(meson_index)['boxes']:\n",
    "    encoded_key = base64.b64decode(name_dict['name'].encode())\n",
    "    value_return = algod_client.application_box_by_name(meson_index, encoded_key)\n",
    "    posted_value = base64.b64decode(value_return['value'])\n",
    "    if len(posted_value) == 84:\n",
    "        print('[EncodedSwap] %s, \\n\\t[PostedValue] (lp, initiator, from_address) \\n\\t\\t\\t(%s, \\n\\t\\t\\t%s, \\n\\t\\t\\t%s)' % (encoded_key.hex(), (p := posted_value.hex())[:64], p[64:104], p[104:168]))"
   ]
  },
  {
   "cell_type": "code",
   "execution_count": null,
   "metadata": {},
   "outputs": [],
   "source": []
  }
 ],
 "metadata": {
  "kernelspec": {
   "display_name": "algorand",
   "language": "python",
   "name": "python3"
  },
  "language_info": {
   "codemirror_mode": {
    "name": "ipython",
    "version": 3
   },
   "file_extension": ".py",
   "mimetype": "text/x-python",
   "name": "python",
   "nbconvert_exporter": "python",
   "pygments_lexer": "ipython3",
   "version": "3.10.8"
  },
  "orig_nbformat": 4,
  "vscode": {
   "interpreter": {
    "hash": "ba3450cde5b05b5197a9eb5fde5fb055163ecc9b5ff443221fad328eb2bb5ad5"
   }
  }
 },
 "nbformat": 4,
 "nbformat_minor": 2
}
