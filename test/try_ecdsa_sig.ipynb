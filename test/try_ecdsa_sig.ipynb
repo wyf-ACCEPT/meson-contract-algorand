{
 "cells": [
  {
   "cell_type": "code",
   "execution_count": 2,
   "metadata": {},
   "outputs": [
    {
     "name": "stdout",
     "output_type": "stream",
     "text": [
      "Alice GZ4IJXXNRFT23E6SLUOSSUWN2LUDFQTX4F6SXF5EP27LFWTOWHPFANLYIQ Balance: 38.293993\n",
      "Bob   CIK3P7U4PZBJESWQ3XFDCZDXEZ3JZLWY6XZHY4A4KEJCA5SYYIPBT6W7Y4 Balance: 15.322008\n",
      "Carol K7ZJP3J7SYYNB42DPZMRY56X32HVTYOOZRA2ASE2IND4LSQKCL3CE2Z2YU Balance: 8.977\n"
     ]
    }
   ],
   "source": [
    "import time\n",
    "import pandas as pd\n",
    "from algosdk import account, mnemonic, logic\n",
    "from algosdk.future import transaction\n",
    "from algosdk.v2client import algod, indexer\n",
    "from pyteal import compileTeal, Mode, Approve\n",
    "\n",
    "ALGOD_TOKEN = \"aaaaaaaaaaaaaaaaaaaaaaaaaaaaaaaaaaaaaaaaaaaaaaaaaaaaaaaaaaaaaaaa\"\n",
    "TESTNET_ALGOD_RPC = \"https://testnet-api.algonode.network\"\n",
    "TESTNET_INDEXER_RPC = \"https://testnet-idx.algonode.network\"\n",
    "\n",
    "algod_client = algod.AlgodClient(ALGOD_TOKEN, TESTNET_ALGOD_RPC)\n",
    "indexer_client = indexer.IndexerClient(ALGOD_TOKEN, TESTNET_INDEXER_RPC)\n",
    "sp_func = algod_client.suggested_params\n",
    "on_complete_param = transaction.OnComplete.NoOpOC\n",
    "    \n",
    "mnemonic_1 = open(\"../wallet_1\").read().replace(',', ' ')\n",
    "mnemonic_2 = open(\"../wallet_2\").read().replace(',', ' ')\n",
    "mnemonic_3 = open(\"../wallet_3\").read().replace(',', ' ')\n",
    "\n",
    "alice_private_key = mnemonic.to_private_key(mnemonic_1)\n",
    "alice_address = account.address_from_private_key(alice_private_key)\n",
    "bob_private_key = mnemonic.to_private_key(mnemonic_2)\n",
    "bob_address = account.address_from_private_key(bob_private_key)\n",
    "carol_private_key = mnemonic.to_private_key(mnemonic_3)\n",
    "carol_address = account.address_from_private_key(carol_private_key)\n",
    "\n",
    "print(\"Alice {} Balance: {}\".format(alice_address, \n",
    "                algod_client.account_info(alice_address).get('amount') / 1e6))\n",
    "print(\"Bob   {} Balance: {}\".format(bob_address, \n",
    "                algod_client.account_info(bob_address).get('amount') / 1e6))\n",
    "print(\"Carol {} Balance: {}\".format(carol_address, \n",
    "                algod_client.account_info(carol_address).get('amount') / 1e6))\n",
    "\n",
    "def submit_transaction(private_key: str, unsigned_txn: transaction.Transaction):\n",
    "    signed_txn = unsigned_txn.sign(private_key)\n",
    "    txid = algod_client.send_transaction(signed_txn)\n",
    "    print(\"Signed transaction with txID: {}\".format(txid))\n",
    "    confirmed_txn = transaction.wait_for_confirmation(algod_client, txid, 3)\n",
    "    print(\"Confirmed on round {}!\".format(confirmed_txn['confirmed-round']))\n",
    "    transaction_response = algod_client.pending_transaction_info(txid)\n",
    "    return transaction_response"
   ]
  },
  {
   "cell_type": "code",
   "execution_count": 3,
   "metadata": {},
   "outputs": [],
   "source": [
    "import base64\n",
    "from base64 import b64encode as en64\n",
    "from base64 import b64decode as de64\n",
    "import sys\n",
    "from typing import List\n",
    "\n",
    "def submit_transaction(private_key: str, unsigned_txn: transaction.Transaction):\n",
    "    signed_txn = unsigned_txn.sign(private_key)\n",
    "    txid = algod_client.send_transaction(signed_txn)\n",
    "    print(\"Signed transaction with txID: {}\".format(txid))\n",
    "    confirmed_txn = transaction.wait_for_confirmation(algod_client, txid, 3)\n",
    "    print(\"Confirmed on round {}!\".format(confirmed_txn['confirmed-round']))\n",
    "    transaction_response = algod_client.pending_transaction_info(txid)\n",
    "    return transaction_response\n",
    "    \n",
    "def submit_transaction_group(private_key: str, unsigned_txns: List[transaction.Transaction]):\n",
    "    gid = transaction.calculate_group_id(unsigned_txns)\n",
    "    signed_txns = []\n",
    "    for unsigned in unsigned_txns:\n",
    "        unsigned.group = gid\n",
    "        signed = unsigned.sign(private_key)\n",
    "        signed_txns.append(signed)\n",
    "    gtxid = algod_client.send_transactions(signed_txns)\n",
    "    print(\"Signed transaction group with gtxID: {}\".format(gtxid))\n",
    "    confirmed_txn = transaction.wait_for_confirmation(algod_client, gtxid, 3)\n",
    "    print(\"Confirmed on round {}!\".format(confirmed_txn['confirmed-round']))\n",
    "    transaction_response = algod_client.pending_transaction_info(gtxid)\n",
    "    return transaction_response\n",
    "\n",
    "def compile_program(client, source_code):\n",
    "    compile_response = client.compile(source_code)\n",
    "    return base64.b64decode(compile_response['result'])\n",
    "\n",
    "blank_program = compile_program(algod_client, compileTeal(\n",
    "    Approve(), Mode.Application, version=8\n",
    "))"
   ]
  },
  {
   "cell_type": "code",
   "execution_count": 4,
   "metadata": {},
   "outputs": [],
   "source": [
    "# Testnet Swap: 0100030a32c0c00000000000081cfd8e00000000000063f7572102ca2103c601\n",
    "# PostSwap: https://mumbai.polygonscan.com/tx/0xbf2c3b77ff2b3928cf3258d14eccd3bbae2bcaa032b37eb04c3be7cd14f3f2c0\n",
    "# https://testnet-explorer.meson.fi/swap/0x67d63e90804dedd3c6711ac19efe4eb8747e90fb92cd23140d233e42dd73b778\n",
    "\n",
    "# 0x8302ce5a\n",
    "# 0100030a32c0c00000000000081cfd8e00000000000063f7572102ca2103c601 (encodedSwap)\n",
    "# 74659420d1810219f4633d6366efdcf410522ae32ce030382b07ecafea76b9da (r)\n",
    "# 3fbc897918230c0dfdd87a7284e7bca0625bd8ff54f4bdd350d6cc82f1baedba (s)\n",
    "# 000000000000000000000000000000000000000000000000000000000000001c (v)\n",
    "# 000000000000002ef8a51f8ff129dbb874a0efb021702f59c1b2110000000001 (postingValue)\n",
    "\n",
    "# assembly {\n",
    "# mstore(0, encodedSwap)\n",
    "# mstore(32, keccak256(0, 32))\n",
    "# mstore(0, typehash)\n",
    "# digest := keccak256(0, 64)\n",
    "# }\n",
    "\n",
    "# \"bytes32 Sign to request a swap on Meson (Testnet)\" (typehash-origin)\n",
    "# 7b521e60f64ab56ff03ddfb26df49be54b20672b7acfffc1adeb256b554ccb25 (typehash)\n",
    "# 8626c2a6698ce7518c71a8e6c3c4c8739ac5a799c97997198b73d4cf694be601 (hash(encodedSwap))\n",
    "# bd045242342bc4e3948a5029209b0e90e29e5a55dffff09113aa65b8ea997031 (digest = hash(typehash, hash(encodedSwap)))"
   ]
  },
  {
   "cell_type": "code",
   "execution_count": 43,
   "metadata": {},
   "outputs": [],
   "source": [
    "from pyteal import *\n",
    "\n",
    "opup = OpUp(OpUpMode.Explicit, Int(1))\n",
    "\n",
    "def get_pk(v: Bytes, digest: Bytes):\n",
    "    pk = ScratchVar(TealType.bytes)\n",
    "    return Seq(\n",
    "        # opup.maximize_budget(Int(3000)),\n",
    "        pk.store(EcdsaRecover(\n",
    "                    EcdsaCurve.Secp256k1,\n",
    "                    digest,\n",
    "                    Btoi(v),\n",
    "                    Bytes(bytes.fromhex('74659420d1810219f4633d6366efdcf410522ae32ce030382b07ecafea76b9da')),\n",
    "                    Bytes(bytes.fromhex('3fbc897918230c0dfdd87a7284e7bca0625bd8ff54f4bdd350d6cc82f1baedba')),\n",
    "                ).outputReducer(lambda X, Y: Concat(X, Y))),\n",
    "        App.globalPut(Bytes('result'), pk.load()),\n",
    "        Approve()\n",
    "    )\n",
    "\n",
    "def ecdsa_try():\n",
    "    return Cond(\n",
    "        [Txn.application_id() == Int(0), Approve()],\n",
    "        [Txn.on_completion() == OnComplete.OptIn, Approve(),],\n",
    "        [Or(\n",
    "            Txn.on_completion() == OnComplete.CloseOut,\n",
    "            Txn.on_completion() == OnComplete.UpdateApplication,\n",
    "            Txn.on_completion() == OnComplete.DeleteApplication,\n",
    "        ), Reject()],\n",
    "        [Txn.on_completion() == OnComplete.NoOp, Cond([\n",
    "            Txn.application_args[0] == Bytes(\"verify\"),\n",
    "            get_pk(Txn.application_args[1], Txn.application_args[2]),\n",
    "        ], [\n",
    "            Txn.application_args[0] == Bytes(\"nothing1\"),\n",
    "            Approve(),\n",
    "        ], [\n",
    "            Txn.application_args[0] == Bytes(\"nothing2\"),\n",
    "            Approve(),\n",
    "        ], [\n",
    "            Txn.application_args[0] == Bytes(\"nothing3\"),\n",
    "            Approve(),\n",
    "        ])]\n",
    "    )\n",
    "    \n",
    "ecdsa_program = compile_program(algod_client, teal_sentences := compileTeal(\n",
    "    ecdsa_try(), Mode.Application, version=8\n",
    "))"
   ]
  },
  {
   "cell_type": "code",
   "execution_count": 44,
   "metadata": {},
   "outputs": [
    {
     "name": "stdout",
     "output_type": "stream",
     "text": [
      "Signed transaction with txID: AMNEVMKTYH3OVH4W3OWC4YBFRXORXSXEW42E5XDDN2OA4AKHFEPA\n",
      "Confirmed on round 27947782!\n",
      "Create Contract success! App id: 160573845, App Address: HY6AKAS37E2M33PNITEOXQCUOGS5DXEITGWOBEKXMNAZY57H6XIEUGII4I\n",
      "\n"
     ]
    }
   ],
   "source": [
    "create_app_tx = submit_transaction(alice_private_key, transaction.ApplicationCreateTxn(\n",
    "    alice_address, sp_func(), on_complete_param, ecdsa_program, blank_program,\n",
    "    transaction.StateSchema(2, 2), transaction.StateSchema(0, 0)       # todo: add variable nums\n",
    "))\n",
    "print(\"Create Contract success! App id: %s, App Address: %s\\n\" % (\n",
    "    app_index := create_app_tx['application-index'],\n",
    "    app_address := logic.get_application_address(app_index)\n",
    "))"
   ]
  },
  {
   "cell_type": "code",
   "execution_count": 56,
   "metadata": {},
   "outputs": [
    {
     "name": "stdout",
     "output_type": "stream",
     "text": [
      "Signed transaction group with gtxID: TL3P2D3WGCMMDLESCPUGIC2VX6W26KWX4NUTKKSXNHRZAVGBMERQ\n",
      "Confirmed on round 27947930!\n"
     ]
    },
    {
     "data": {
      "text/plain": [
       "{'confirmed-round': 27947930,\n",
       " 'pool-error': '',\n",
       " 'txn': {'sig': 'JvPOJjuwAhsBvJuDIG0DPUHI5ahT+7DyO2+ionKQjcKof1PSz3hZhgSK7vqT8HwnZZTKkC+JMJr8mtALkhe3AQ==',\n",
       "  'txn': {'apaa': ['bm90aGluZzE='],\n",
       "   'apid': 160573845,\n",
       "   'fee': 1000,\n",
       "   'fv': 27947928,\n",
       "   'gen': 'testnet-v1.0',\n",
       "   'gh': 'SGO1GKSzyE7IEPItTxCByw9x8FmnrCDexi9/cOUJOiI=',\n",
       "   'grp': 'c7VIacyWFcvVFXmLm8FojN/p1jLDoOupbTmk4hMUCE8=',\n",
       "   'lv': 27948928,\n",
       "   'snd': 'GZ4IJXXNRFT23E6SLUOSSUWN2LUDFQTX4F6SXF5EP27LFWTOWHPFANLYIQ',\n",
       "   'type': 'appl'}}}"
      ]
     },
     "execution_count": 56,
     "metadata": {},
     "output_type": "execute_result"
    }
   ],
   "source": [
    "submit_transaction_group(alice_private_key, [\n",
    "    transaction.ApplicationCallTxn(\n",
    "        alice_address, sp_func(), app_index, on_complete_param,\n",
    "        app_args=['nothing1']\n",
    "    ),\n",
    "    transaction.ApplicationCallTxn(\n",
    "        alice_address, sp_func(), app_index, on_complete_param,\n",
    "        app_args=['nothing2']\n",
    "    ),\n",
    "    transaction.ApplicationCallTxn(\n",
    "        alice_address, sp_func(), app_index, on_complete_param,\n",
    "        app_args=['nothing3']\n",
    "    ),\n",
    "    transaction.ApplicationCallTxn(\n",
    "        alice_address, sp_func(), app_index, on_complete_param,\n",
    "        app_args=['verify', 0, bytes.fromhex('bd045242342bc4e3948a5029209b0e90e29e5a55dffff09113aa65b8ea997031')]\n",
    "    ),\n",
    "])"
   ]
  },
  {
   "cell_type": "code",
   "execution_count": 57,
   "metadata": {},
   "outputs": [
    {
     "data": {
      "text/plain": [
       "'3218b312b8f8d590fbb3dcd2c3d96c74f95b08e7aee431eb7822776ba3880132848ef360d04155534b5ec63b9c786e96d45b82de31b0e938f0b8e7a8c849035f'"
      ]
     },
     "execution_count": 57,
     "metadata": {},
     "output_type": "execute_result"
    }
   ],
   "source": [
    "pk = de64('MhizErj41ZD7s9zSw9lsdPlbCOeu5DHreCJ3a6OIATKEjvNg0EFVU0texjuceG6W1FuC3jGw6TjwuOeoyEkDXw==')\n",
    "pk.hex()"
   ]
  },
  {
   "cell_type": "code",
   "execution_count": 58,
   "metadata": {},
   "outputs": [
    {
     "data": {
      "text/plain": [
       "'2ef8a51f8ff129dbb874a0efb021702f59c1b211'"
      ]
     },
     "execution_count": 58,
     "metadata": {},
     "output_type": "execute_result"
    }
   ],
   "source": [
    "'ba29fb34a5294f18510f0ce22ef8a51f8ff129dbb874a0efb021702f59c1b211'[-40:]"
   ]
  },
  {
   "cell_type": "code",
   "execution_count": null,
   "metadata": {},
   "outputs": [],
   "source": []
  }
 ],
 "metadata": {
  "kernelspec": {
   "display_name": "algorand",
   "language": "python",
   "name": "python3"
  },
  "language_info": {
   "codemirror_mode": {
    "name": "ipython",
    "version": 3
   },
   "file_extension": ".py",
   "mimetype": "text/x-python",
   "name": "python",
   "nbconvert_exporter": "python",
   "pygments_lexer": "ipython3",
   "version": "3.10.8"
  },
  "orig_nbformat": 4,
  "vscode": {
   "interpreter": {
    "hash": "ba3450cde5b05b5197a9eb5fde5fb055163ecc9b5ff443221fad328eb2bb5ad5"
   }
  }
 },
 "nbformat": 4,
 "nbformat_minor": 2
}
